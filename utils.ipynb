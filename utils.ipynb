{
 "cells": [
  {
   "cell_type": "code",
   "execution_count": 6,
   "metadata": {},
   "outputs": [],
   "source": [
    "import pickle\n",
    "import numpy as np\n",
    "import pandas as pd\n",
    "from sklearn.metrics.pairwise import check_pairwise_arrays\n",
    "from sklearn.preprocessing import normalize\n",
    "\n",
    "%run preprocessing_ti.ipynb\n",
    "\n",
    "#uses index based on order of documents.\n",
    "#code by Jonas, based on Minying"
   ]
  },
  {
   "cell_type": "code",
   "execution_count": 10,
   "metadata": {},
   "outputs": [],
   "source": [
    "#create inverted index\n",
    "def createInvertedIndex(preprocessedCollection:pd.DataFrame, load = False, safe = True, path = \"invertedIndex_ori.psave\"):\n",
    "    '''\n",
    "    builds up the inverted index. Based on Minying's code, making it work with Hechen's new preprocessing and therefore probably inefficient, but works.\n",
    "    This inverted index is based on the implicit ordering of the documents.\n",
    "    Terms within the index are not sorted alphabetically, but this should not harm results\n",
    "    \n",
    "    preprocessedCollection: The collection as a dataframe preprocessed by preprocessing_ori()\n",
    "    load: if false, inverted index is created, else it is loaded from path\n",
    "    safe: if false, inverted index is not safed to file\n",
    "    path: where to safe to/load from'''\n",
    "    if(load):\n",
    "        with open(path,\"rb\") as f:\n",
    "            inverted_index = pickle.load(f)\n",
    "    else:\n",
    "        print('get the set of all words')\n",
    "        preprocessed_set = set()\n",
    "        for i in range(len(preprocessedCollection)):\n",
    "            preprocessed_set.update(preprocessedCollection['text'][i])\n",
    "        print('create the inverted index')\n",
    "        inverted_index={}\n",
    "        counter = 0\n",
    "        for i in preprocessed_set: \n",
    "            index_list=[]\n",
    "            if (counter % 100 == 0):\n",
    "                print('this is term number ',counter, ' of ',len(preprocessed_set))\n",
    "            for j in range(len(preprocessedCollection)):                \n",
    "                if(i in preprocessedCollection['text'][j]):\n",
    "                    count_Number=preprocessedCollection['text'][j].count(i)\n",
    "                    index_list.append([j,count_Number])\n",
    "            inverted_index[i]=index_list\n",
    "            counter += 1\n",
    "        if(safe):\n",
    "            with open(path,\"wb\") as f:\n",
    "                pickle.dump(inverted_index,f)\n",
    "    return inverted_index"
   ]
  },
  {
   "cell_type": "code",
   "execution_count": null,
   "metadata": {},
   "outputs": [],
   "source": [
    "#inserted another save command\n",
    "## f=open(\"inverted_index.txt\",\"wb\")\n",
    "## pickle.dump(inverted_index,f)\n",
    "## f.close()"
   ]
  },
  {
   "cell_type": "code",
   "execution_count": null,
   "metadata": {},
   "outputs": [],
   "source": [
    "def preprocessing_ori(collection: pd.DataFrame, \n",
    "                      stop_words_file_path='../data/nfcorpus/raw/stopwords.large', \n",
    "                      rare_words_file_path='../data/rare_tokens.txt'):\n",
    "    '''\n",
    "    modifies collection in place.\n",
    "    preprocesses every document and replaces it by a list of non-unique words instead of the strings\n",
    "    \n",
    "    collection: The collection as provided by docs2df.ipynb\n",
    "    stop_words_file_path: see documentation of Preprocessor\n",
    "    stop_words_file_path: see documentation of Preprocessor\n",
    "    '''\n",
    "    #init the preprocessor\n",
    "    p = Preprocessor(stop_words_file_path,rare_words_file_path)\n",
    "    #preprocess every document\n",
    "    collection['text'].apply(p.preprocess_line)\n",
    "    #split it to get a non-unique list of words instead of a complete string\n",
    "    for i in range(len(collection)):\n",
    "        collection['text'][i] = collection['text'][i].split()\n"
   ]
  },
  {
   "cell_type": "code",
   "execution_count": null,
   "metadata": {},
   "outputs": [],
   "source": [
    "def createIDF(inverted_index,NumberOfDocs):\n",
    "    idf = {}\n",
    "    for a,b in inverted_index.items():\n",
    "        idf[a]=np.log(NumberOfDocs/len(b))\n",
    "    return idf"
   ]
  },
  {
   "cell_type": "code",
   "execution_count": null,
   "metadata": {},
   "outputs": [],
   "source": [
    "#my own implementation using a bit of optimisation. \n",
    "#Has same name as sklearn version, as it relies on their architecture and therefore replaces more smoothly in the code\n",
    "def cosine_similarity(V,U): #myOwnCosineSimilarity(V,U):\n",
    "    '''computes cosine similarity of two dense matrices V,U.'''\n",
    "    V,U = check_pairwise_arrays(V,U)\n",
    "    # make sure, dimensions are correct.\n",
    "    #norm everything\n",
    "    V_normalised = normalize(V,copy=True)\n",
    "    U_normalised = normalize(U,copy=True)\n",
    "    #compute the dot-product ignoring optimisations for sparse matrices.\n",
    "    return np.dot(V_normalised,U_normalised.T)"
   ]
  },
  {
   "cell_type": "code",
   "execution_count": null,
   "metadata": {},
   "outputs": [],
   "source": [
    "def termFrequencies(doc):\n",
    "    '''outputs the bag of words representation of the document first and then the term frequency vector\n",
    "    '''\n",
    "    f = np.unique(doc,return_counts=True)\n",
    "    max_f = np.max(f[1])\n",
    "    tf = 1+np.log(f[1])\n",
    "    tf = tf/(1 + np.log(max_f))\n",
    "    return (f[0],tf)"
   ]
  },
  {
   "cell_type": "code",
   "execution_count": null,
   "metadata": {},
   "outputs": [],
   "source": []
  }
 ],
 "metadata": {
  "kernelspec": {
   "display_name": "Python 3",
   "language": "python",
   "name": "python3"
  },
  "language_info": {
   "codemirror_mode": {
    "name": "ipython",
    "version": 3
   },
   "file_extension": ".py",
   "mimetype": "text/x-python",
   "name": "python",
   "nbconvert_exporter": "python",
   "pygments_lexer": "ipython3",
   "version": "3.6.7"
  }
 },
 "nbformat": 4,
 "nbformat_minor": 2
}
